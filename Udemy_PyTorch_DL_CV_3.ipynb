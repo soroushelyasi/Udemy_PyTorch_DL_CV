{
  "nbformat": 4,
  "nbformat_minor": 0,
  "metadata": {
    "colab": {
      "provenance": []
    },
    "kernelspec": {
      "name": "python3",
      "display_name": "Python 3"
    },
    "language_info": {
      "name": "python"
    }
  },
  "cells": [
    {
      "cell_type": "code",
      "execution_count": 1,
      "metadata": {
        "colab": {
          "base_uri": "https://localhost:8080/"
        },
        "id": "3JxIVflqfp0j",
        "outputId": "48fa2b1b-616e-4a11-9a3d-2ec801728880"
      },
      "outputs": [
        {
          "output_type": "stream",
          "name": "stdout",
          "text": [
            "Requirement already satisfied: torch in /usr/local/lib/python3.10/dist-packages (2.5.1+cu121)\n",
            "Requirement already satisfied: filelock in /usr/local/lib/python3.10/dist-packages (from torch) (3.16.1)\n",
            "Requirement already satisfied: typing-extensions>=4.8.0 in /usr/local/lib/python3.10/dist-packages (from torch) (4.12.2)\n",
            "Requirement already satisfied: networkx in /usr/local/lib/python3.10/dist-packages (from torch) (3.4.2)\n",
            "Requirement already satisfied: jinja2 in /usr/local/lib/python3.10/dist-packages (from torch) (3.1.4)\n",
            "Requirement already satisfied: fsspec in /usr/local/lib/python3.10/dist-packages (from torch) (2024.10.0)\n",
            "Requirement already satisfied: sympy==1.13.1 in /usr/local/lib/python3.10/dist-packages (from torch) (1.13.1)\n",
            "Requirement already satisfied: mpmath<1.4,>=1.1.0 in /usr/local/lib/python3.10/dist-packages (from sympy==1.13.1->torch) (1.3.0)\n",
            "Requirement already satisfied: MarkupSafe>=2.0 in /usr/local/lib/python3.10/dist-packages (from jinja2->torch) (3.0.2)\n"
          ]
        }
      ],
      "source": [
        "!pip3 install torch"
      ]
    },
    {
      "cell_type": "code",
      "source": [
        "import torch"
      ],
      "metadata": {
        "id": "V6BHpoNjgqr5"
      },
      "execution_count": 2,
      "outputs": []
    },
    {
      "cell_type": "code",
      "source": [
        "v=torch.tensor([1,2,3,4,5,6])\n",
        "f=torch.FloatTensor([1.1,2.2,3])\n",
        "f1=torch.tensor([1.1,2.2,3])\n",
        "print(v)\n",
        "print(v[2])\n",
        "print(v[1:2])\n",
        "print(f)\n",
        "print(f1)\n",
        "print(f[2])\n",
        "print(f[1:2])\n",
        "print(f.dtype)\n",
        "print(f1.dtype)\n",
        "print(f.size())"
      ],
      "metadata": {
        "colab": {
          "base_uri": "https://localhost:8080/"
        },
        "id": "Qdq6f3w0gwcO",
        "outputId": "a000d022-0788-4832-d5aa-bc6ab56b2e5f"
      },
      "execution_count": 3,
      "outputs": [
        {
          "output_type": "stream",
          "name": "stdout",
          "text": [
            "tensor([1, 2, 3, 4, 5, 6])\n",
            "tensor(3)\n",
            "tensor([2])\n",
            "tensor([1.1000, 2.2000, 3.0000])\n",
            "tensor([1.1000, 2.2000, 3.0000])\n",
            "tensor(3.)\n",
            "tensor([2.2000])\n",
            "torch.float32\n",
            "torch.float32\n",
            "torch.Size([3])\n"
          ]
        }
      ]
    },
    {
      "cell_type": "code",
      "source": [
        "v.view(6,1)"
      ],
      "metadata": {
        "colab": {
          "base_uri": "https://localhost:8080/"
        },
        "id": "t0gJiCUpkmBt",
        "outputId": "b1679bce-2b09-43b1-be62-a49ff21b839e"
      },
      "execution_count": 4,
      "outputs": [
        {
          "output_type": "execute_result",
          "data": {
            "text/plain": [
              "tensor([[1],\n",
              "        [2],\n",
              "        [3],\n",
              "        [4],\n",
              "        [5],\n",
              "        [6]])"
            ]
          },
          "metadata": {},
          "execution_count": 4
        }
      ]
    },
    {
      "cell_type": "code",
      "source": [
        "v.view(2,-1)\n"
      ],
      "metadata": {
        "colab": {
          "base_uri": "https://localhost:8080/"
        },
        "id": "fuQPYAt2l3K5",
        "outputId": "1dcba52a-f58d-475c-a531-2b0f37d353fe"
      },
      "execution_count": 5,
      "outputs": [
        {
          "output_type": "execute_result",
          "data": {
            "text/plain": [
              "tensor([[1, 2, 3],\n",
              "        [4, 5, 6]])"
            ]
          },
          "metadata": {},
          "execution_count": 5
        }
      ]
    },
    {
      "cell_type": "code",
      "source": [
        "t1= torch.tensor([1,2,3,4])\n",
        "t2=torch.tensor([1,2,3,4])\n",
        "\n",
        "print(t1+t2)\n",
        "print(t1-t2)\n",
        "print(t1*t2)\n",
        "print(t1/t2)\n",
        "print(t1**t2)\n",
        "print(t1%t2)"
      ],
      "metadata": {
        "colab": {
          "base_uri": "https://localhost:8080/"
        },
        "id": "uDBZKIHiKuvQ",
        "outputId": "bf6d76e8-7ffb-4699-d107-60ff9336be10"
      },
      "execution_count": 6,
      "outputs": [
        {
          "output_type": "stream",
          "name": "stdout",
          "text": [
            "tensor([2, 4, 6, 8])\n",
            "tensor([0, 0, 0, 0])\n",
            "tensor([ 1,  4,  9, 16])\n",
            "tensor([1., 1., 1., 1.])\n",
            "tensor([  1,   4,  27, 256])\n",
            "tensor([0, 0, 0, 0])\n"
          ]
        }
      ]
    },
    {
      "cell_type": "code",
      "source": [
        "A = torch.tensor([1, 2, 3])\n",
        "B = torch.tensor([4, 5, 6])\n",
        "\n",
        "dot_product = torch.dot(A, B)\n",
        "print(dot_product)  # Output: tensor(32)\n",
        "#For higher-dimensional tensors, you use torch.matmul or the @ operator\n",
        "# for matrix multiplication, which is a generalization of the dot product:\n",
        "C = torch.tensor([[1, 2], [3, 4]])\n",
        "D = torch.tensor([[5, 6], [7, 8]])\n",
        "\n",
        "matrix_product = torch.matmul(C, D)\n",
        "print(matrix_product)"
      ],
      "metadata": {
        "colab": {
          "base_uri": "https://localhost:8080/"
        },
        "id": "gVGsZGBhQlPM",
        "outputId": "9f66dfb6-8348-41d3-e2c5-a02cf1ae23eb"
      },
      "execution_count": 7,
      "outputs": [
        {
          "output_type": "stream",
          "name": "stdout",
          "text": [
            "tensor(32)\n",
            "tensor([[19, 22],\n",
            "        [43, 50]])\n"
          ]
        }
      ]
    },
    {
      "cell_type": "code",
      "source": [
        "x=torch.arange(18).view(3,2,3)\n",
        "print(x[0,1, 2])\n",
        "print(x[0:1,:,:])\n",
        "# x"
      ],
      "metadata": {
        "colab": {
          "base_uri": "https://localhost:8080/"
        },
        "id": "yWekEgYzjHdg",
        "outputId": "efcb60b6-e77c-4ec2-83be-b745c7dcd760"
      },
      "execution_count": 8,
      "outputs": [
        {
          "output_type": "stream",
          "name": "stdout",
          "text": [
            "tensor(5)\n",
            "tensor([[[0, 1, 2],\n",
            "         [3, 4, 5]]])\n"
          ]
        }
      ]
    },
    {
      "cell_type": "code",
      "source": [
        "mat_a = torch.tensor([0, 3, 5, 5, 5, 2]).view(2, 3)\n",
        "print(mat_a)\n",
        "mat_b = torch.tensor([3, 4, 3, -2, 4, -2]).view(3, 2)\n",
        "print(mat_b)\n",
        "print(torch.matmul(mat_a, mat_b))\n",
        "print(mat_a@mat_b)"
      ],
      "metadata": {
        "colab": {
          "base_uri": "https://localhost:8080/"
        },
        "id": "6UcpMns8nn5I",
        "outputId": "301eec40-d393-4b90-b9fc-2f008eb74d84"
      },
      "execution_count": 9,
      "outputs": [
        {
          "output_type": "stream",
          "name": "stdout",
          "text": [
            "tensor([[0, 3, 5],\n",
            "        [5, 5, 2]])\n",
            "tensor([[ 3,  4],\n",
            "        [ 3, -2],\n",
            "        [ 4, -2]])\n",
            "tensor([[ 29, -16],\n",
            "        [ 38,   6]])\n",
            "tensor([[ 29, -16],\n",
            "        [ 38,   6]])\n"
          ]
        }
      ]
    }
  ]
}