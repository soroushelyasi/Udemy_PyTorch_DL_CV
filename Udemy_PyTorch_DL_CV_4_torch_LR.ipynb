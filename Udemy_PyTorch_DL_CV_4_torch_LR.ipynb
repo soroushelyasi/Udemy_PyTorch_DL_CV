{
  "nbformat": 4,
  "nbformat_minor": 0,
  "metadata": {
    "colab": {
      "provenance": []
    },
    "kernelspec": {
      "name": "python3",
      "display_name": "Python 3"
    },
    "language_info": {
      "name": "python"
    }
  },
  "cells": [
    {
      "cell_type": "code",
      "execution_count": 333,
      "metadata": {
        "colab": {
          "base_uri": "https://localhost:8080/"
        },
        "id": "JGYhXnJP93Ts",
        "outputId": "e9097e64-3016-43e8-e4f5-020babe007f6"
      },
      "outputs": [
        {
          "output_type": "stream",
          "name": "stdout",
          "text": [
            "Requirement already satisfied: torch in /usr/local/lib/python3.10/dist-packages (2.5.1+cu121)\n",
            "Requirement already satisfied: filelock in /usr/local/lib/python3.10/dist-packages (from torch) (3.16.1)\n",
            "Requirement already satisfied: typing-extensions>=4.8.0 in /usr/local/lib/python3.10/dist-packages (from torch) (4.12.2)\n",
            "Requirement already satisfied: networkx in /usr/local/lib/python3.10/dist-packages (from torch) (3.4.2)\n",
            "Requirement already satisfied: jinja2 in /usr/local/lib/python3.10/dist-packages (from torch) (3.1.4)\n",
            "Requirement already satisfied: fsspec in /usr/local/lib/python3.10/dist-packages (from torch) (2024.10.0)\n",
            "Requirement already satisfied: sympy==1.13.1 in /usr/local/lib/python3.10/dist-packages (from torch) (1.13.1)\n",
            "Requirement already satisfied: mpmath<1.4,>=1.1.0 in /usr/local/lib/python3.10/dist-packages (from sympy==1.13.1->torch) (1.3.0)\n",
            "Requirement already satisfied: MarkupSafe>=2.0 in /usr/local/lib/python3.10/dist-packages (from jinja2->torch) (3.0.2)\n"
          ]
        }
      ],
      "source": [
        "!pip3 install torch"
      ]
    },
    {
      "cell_type": "code",
      "source": [
        "import torch"
      ],
      "metadata": {
        "id": "0w9qj6kZ-ED9"
      },
      "execution_count": 334,
      "outputs": []
    },
    {
      "cell_type": "markdown",
      "source": [
        "2 ways exist:\n",
        "1.   predifind linear class in torch\n",
        "2.   using custome class\n"
      ],
      "metadata": {
        "id": "mgM3PPBhC-uI"
      }
    },
    {
      "cell_type": "markdown",
      "source": [
        "# predefined class"
      ],
      "metadata": {
        "id": "Lu9_gDYRJ_ZD"
      }
    },
    {
      "cell_type": "code",
      "source": [
        "from torch.nn import Linear #import predefined linear class"
      ],
      "metadata": {
        "id": "KX7a6xsr-HkI"
      },
      "execution_count": 335,
      "outputs": []
    },
    {
      "cell_type": "code",
      "source": [
        "torch.manual_seed(1) # arbitrary value for getting same resualt in the repetations (make it more determenistic when it comes to generate random numbers)\n",
        "model= Linear(in_features=1,out_features=1) # for ever singel output we have only singel input\n",
        "print(model.bias,model.weight) # show the randomly generated parameters as an intial point for our experiment\n",
        "# in printed output The \"requires_grad=True\" flag in PyTorch indicates that you want to compute gradients with respect to this tensor during the backward pass."
      ],
      "metadata": {
        "colab": {
          "base_uri": "https://localhost:8080/"
        },
        "id": "LgI3OkpHDtmk",
        "outputId": "ef303e5b-5344-498a-8a36-8d77bc989dfe"
      },
      "execution_count": 336,
      "outputs": [
        {
          "output_type": "stream",
          "name": "stdout",
          "text": [
            "Parameter containing:\n",
            "tensor([-0.4414], requires_grad=True) Parameter containing:\n",
            "tensor([[0.5153]], requires_grad=True)\n"
          ]
        }
      ]
    },
    {
      "cell_type": "markdown",
      "source": [
        "# note\n",
        "Clarifying the Difference:\n",
        "\n",
        "1.   torch.tensor(1) creates a scalar tensor.\n",
        "2.   torch.tensor([1]) creates a vector tensor with one element.\n",
        "\n",
        "Using square brackets helps clarify the structure and dimensionality of the tensor you're creating."
      ],
      "metadata": {
        "id": "ysb7BqnuHPHR"
      }
    },
    {
      "cell_type": "code",
      "source": [
        "scalar_tensor = torch.tensor(1)\n",
        "print(scalar_tensor)  # Output: tensor(1)\n",
        "print(scalar_tensor.shape)  # Output: torch.Size([])  -> 0-dimensional tensor\n",
        "\n",
        "vector_tensor = torch.tensor([1])\n",
        "print(vector_tensor)  # Output: tensor([1])\n",
        "print(vector_tensor.shape)  # Output: torch.Size([1])  -> 1-dimensional tensor\n"
      ],
      "metadata": {
        "colab": {
          "base_uri": "https://localhost:8080/"
        },
        "id": "dWVDWiExHkVX",
        "outputId": "27936e40-2ab3-42d6-9098-d08c4359793f"
      },
      "execution_count": 337,
      "outputs": [
        {
          "output_type": "stream",
          "name": "stdout",
          "text": [
            "tensor(1)\n",
            "torch.Size([])\n",
            "tensor([1])\n",
            "torch.Size([1])\n"
          ]
        }
      ]
    },
    {
      "cell_type": "code",
      "source": [
        "x= torch.tensor([2.0]) # for single prediction pass a vector of size 1\n",
        "print(model(x)) # for predictioin\n",
        "x= torch.tensor([[2.0],[3.0]]) # for multi prediction pass a vector of size 2 note: because we say we have one input we should wrap them in []\n",
        "print(model(x)) # for predictioin\n"
      ],
      "metadata": {
        "colab": {
          "base_uri": "https://localhost:8080/"
        },
        "id": "65lYvkeJGeMB",
        "outputId": "05c8d5a9-8592-457c-ff90-c14e3cef79d2"
      },
      "execution_count": 338,
      "outputs": [
        {
          "output_type": "stream",
          "name": "stdout",
          "text": [
            "tensor([0.5891], grad_fn=<ViewBackward0>)\n",
            "tensor([[0.5891],\n",
            "        [1.1044]], grad_fn=<AddmmBackward0>)\n"
          ]
        }
      ]
    },
    {
      "cell_type": "markdown",
      "source": [
        "# custome class"
      ],
      "metadata": {
        "id": "AFz2SQJ4J8nL"
      }
    },
    {
      "cell_type": "code",
      "source": [
        "import torch.nn as nn\n",
        "import matplotlib.pyplot as plt\n",
        "import numpy as np"
      ],
      "metadata": {
        "id": "KSCRmW81TCH6"
      },
      "execution_count": 339,
      "outputs": []
    },
    {
      "cell_type": "markdown",
      "source": [
        "create dataset"
      ],
      "metadata": {
        "id": "UW_y4Q3CGjKD"
      }
    },
    {
      "cell_type": "code",
      "source": [
        "data_x=torch.randn(100,1)* 10 #*10 for scaling purpose # one hundered point with one value in the form of nurmal disteribution\n",
        "data_y=data_x + torch.randn(100,1)*3 # add noise to y\n",
        "plt.plot(data_x.numpy(), data_y.numpy(), 'o')\n",
        "plt.ylabel('y')\n",
        "plt.xlabel('x')"
      ],
      "metadata": {
        "colab": {
          "base_uri": "https://localhost:8080/",
          "height": 466
        },
        "id": "uB61hfKLFdAp",
        "outputId": "a44f46ef-2c09-47c1-b938-67e83c80a1e8"
      },
      "execution_count": 340,
      "outputs": [
        {
          "output_type": "execute_result",
          "data": {
            "text/plain": [
              "Text(0.5, 0, 'x')"
            ]
          },
          "metadata": {},
          "execution_count": 340
        },
        {
          "output_type": "display_data",
          "data": {
            "text/plain": [
              "<Figure size 640x480 with 1 Axes>"
            ],
            "image/png": "[encoded data removed]"
          },
          "metadata": {}
        }
      ]
    },
    {
      "cell_type": "markdown",
      "source": [
        "define our custome class"
      ],
      "metadata": {
        "id": "Bl3qYl4FGmOw"
      }
    },
    {
      "cell_type": "code",
      "source": [
        "class LR(nn.Module): # nn.Module is a base class for all neural network modules in PyTorch. inherit from nn.Module to take advantage of PyTorch's built-in functionalities and structures.\n",
        "  def __init__(self, input_size,output_size): # like the original class we should use how many output is result of howmany input\n",
        "    super().__init__()\n",
        "    self.linear=nn.Linear(input_size,output_size)\n",
        "\n",
        "  def forward(self, x):\n",
        "    return self.linear(x)"
      ],
      "metadata": {
        "id": "8vFDBaqnKWVr"
      },
      "execution_count": 341,
      "outputs": []
    },
    {
      "cell_type": "code",
      "source": [
        "torch.manual_seed(1) # manage randomness regeneration\n",
        "model= LR(input_size=1,output_size=1)\n",
        "print(list(model.parameters()))\n",
        "x= torch.tensor([2.0])\n",
        "print(model.forward(x))\n",
        "x= torch.tensor([[2.0],[3.0]])\n",
        "print(model.forward(x))"
      ],
      "metadata": {
        "colab": {
          "base_uri": "https://localhost:8080/"
        },
        "id": "PRA-rhfDX1I9",
        "outputId": "a4fedbe8-5e93-4ee2-a504-96db427695a5"
      },
      "execution_count": 342,
      "outputs": [
        {
          "output_type": "stream",
          "name": "stdout",
          "text": [
            "[Parameter containing:\n",
            "tensor([[0.5153]], requires_grad=True), Parameter containing:\n",
            "tensor([-0.4414], requires_grad=True)]\n",
            "tensor([0.5891], grad_fn=<ViewBackward0>)\n",
            "tensor([[0.5891],\n",
            "        [1.1044]], grad_fn=<AddmmBackward0>)\n"
          ]
        }
      ]
    },
    {
      "cell_type": "code",
      "source": [
        "def get_params():\n",
        "  [w, b] = model.parameters()\n",
        "  return (w[0][0].item(), b[0].item())\n",
        "\n",
        "get_params()"
      ],
      "metadata": {
        "colab": {
          "base_uri": "https://localhost:8080/"
        },
        "id": "Vx6hZt0aoeHM",
        "outputId": "d05c3ca5-1746-4aff-c068-ffe73da37a96"
      },
      "execution_count": 343,
      "outputs": [
        {
          "output_type": "execute_result",
          "data": {
            "text/plain": [
              "(0.5152631998062134, -0.44137823581695557)"
            ]
          },
          "metadata": {},
          "execution_count": 343
        }
      ]
    },
    {
      "cell_type": "code",
      "source": [
        "def plot_fit(title):\n",
        "  plt.title = title\n",
        "  wl, bl = get_params()\n",
        "  xl = np.array([-30, 30])\n",
        "  yl = wl*xl + bl\n",
        "  plt.plot(xl, yl, 'r')\n",
        "  plt.scatter(data_x, data_y)\n",
        "  plt.show()\n",
        "plot_fit('Initial Model')"
      ],
      "metadata": {
        "colab": {
          "base_uri": "https://localhost:8080/",
          "height": 430
        },
        "id": "VNQLY-h-VOws",
        "outputId": "a98eb6ac-b201-449f-c2ec-0d74dbbaf218"
      },
      "execution_count": 344,
      "outputs": [
        {
          "output_type": "display_data",
          "data": {
            "text/plain": [
              "<Figure size 640x480 with 1 Axes>"
            ],
            "image/png": "[encoded data removed]"
          },
          "metadata": {}
        }
      ]
    },
    {
      "cell_type": "code",
      "source": [
        "criterion= nn.MSELoss() # define a loss fuction for our operation\n",
        "optimizer = torch.optim.SGD(model.parameters(), lr = 0.0005)# we use stockastick gradiant descent ( it is in contrast of batch gredient descent wich use all the point; while it use a sample or a point to evaluate. therefore it reduces the cost of whole operation by using a good estimate)\n"
      ],
      "metadata": {
        "id": "BFt5F35Lqz9S"
      },
      "execution_count": 345,
      "outputs": []
    },
    {
      "cell_type": "markdown",
      "source": [
        "trainig"
      ],
      "metadata": {
        "id": "1Y2pf0mNC4NC"
      }
    },
    {
      "cell_type": "code",
      "source": [
        "epochs=100\n",
        "losses=[]\n",
        "for i in range(epochs):\n",
        "  y_pred=model.forward(data_x)\n",
        "  loss=criterion(y_pred,data_y)\n",
        "  print(\"epoch:\",i,\"loss:\", loss.item())\n",
        "  losses.append(loss)\n",
        "  optimizer.zero_grad() # The primary function of optimizer.zero_grad() is to reset the gradients of all parameters that are being optimized. In PyTorch, gradients accumulate by default; that is, each time loss.backward() is called, the computed gradients are added to the existing gradients stored in each parameter's .grad attribute. This means that if you do not clear the gradients, they will keep accumulating across iterations, which can lead to incorrect updates during optimization.\n",
        "  loss.backward() # computes the gradients of the loss with respect to the model's parameters. After loss.backward(), the gradients are stored in the grad attribute of each parameter tensor. These gradients indicate how much each parameter should be updated to minimize the loss.\n",
        "  optimizer.step() # updates the model's parameters using the computed gradients and the optimization algorithm specified by the optimizer (e.g., SGD, Adam).\n",
        "  '''\n",
        "  Parameter Update: The primary role of optimizer.step() is to update the model parameters (weights and biases) based on the gradients computed during the backpropagation step, which is executed by loss.backward(). This function applies the optimization algorithm (e.g., Stochastic Gradient Descent, Adam) to adjust the parameters in a way that reduces the loss function.\n",
        "  Gradient Utilization: After calling loss.backward(), the gradients of the loss with respect to each parameter are stored in the .grad attribute of those parameters. When optimizer.step() is called, it uses these gradients to update the parameters according to the specific rules defined by the optimization algorithm being used.\n",
        "  '''"
      ],
      "metadata": {
        "colab": {
          "base_uri": "https://localhost:8080/"
        },
        "id": "Qp9-eYFrsval",
        "outputId": "4118ffbf-f670-41f8-a22d-609215487d6b"
      },
      "execution_count": 346,
      "outputs": [
        {
          "output_type": "stream",
          "name": "stdout",
          "text": [
            "epoch: 0 loss: 36.448326110839844\n",
            "epoch: 1 loss: 30.8323917388916\n",
            "epoch: 2 loss: 26.347143173217773\n",
            "epoch: 3 loss: 22.764917373657227\n",
            "epoch: 4 loss: 19.903892517089844\n",
            "epoch: 5 loss: 17.618864059448242\n",
            "epoch: 6 loss: 15.79384994506836\n",
            "epoch: 7 loss: 14.336231231689453\n",
            "epoch: 8 loss: 13.172035217285156\n",
            "epoch: 9 loss: 12.242179870605469\n",
            "epoch: 10 loss: 11.499484062194824\n",
            "epoch: 11 loss: 10.906261444091797\n",
            "epoch: 12 loss: 10.432417869567871\n",
            "epoch: 13 loss: 10.053915023803711\n",
            "epoch: 14 loss: 9.751559257507324\n",
            "epoch: 15 loss: 9.510016441345215\n",
            "epoch: 16 loss: 9.31704330444336\n",
            "epoch: 17 loss: 9.162858963012695\n",
            "epoch: 18 loss: 9.039656639099121\n",
            "epoch: 19 loss: 8.94119644165039\n",
            "epoch: 20 loss: 8.862497329711914\n",
            "epoch: 21 loss: 8.799579620361328\n",
            "epoch: 22 loss: 8.749265670776367\n",
            "epoch: 23 loss: 8.70901870727539\n",
            "epoch: 24 loss: 8.676813125610352\n",
            "epoch: 25 loss: 8.651028633117676\n",
            "epoch: 26 loss: 8.630372047424316\n",
            "epoch: 27 loss: 8.613812446594238\n",
            "epoch: 28 loss: 8.6005220413208\n",
            "epoch: 29 loss: 8.589847564697266\n",
            "epoch: 30 loss: 8.581257820129395\n",
            "epoch: 31 loss: 8.574336051940918\n",
            "epoch: 32 loss: 8.568743705749512\n",
            "epoch: 33 loss: 8.564216613769531\n",
            "epoch: 34 loss: 8.560539245605469\n",
            "epoch: 35 loss: 8.557538986206055\n",
            "epoch: 36 loss: 8.555081367492676\n",
            "epoch: 37 loss: 8.553056716918945\n",
            "epoch: 38 loss: 8.55137825012207\n",
            "epoch: 39 loss: 8.549975395202637\n",
            "epoch: 40 loss: 8.54879379272461\n",
            "epoch: 41 loss: 8.547789573669434\n",
            "epoch: 42 loss: 8.546924591064453\n",
            "epoch: 43 loss: 8.546174049377441\n",
            "epoch: 44 loss: 8.545514106750488\n",
            "epoch: 45 loss: 8.54492473602295\n",
            "epoch: 46 loss: 8.544394493103027\n",
            "epoch: 47 loss: 8.54391098022461\n",
            "epoch: 48 loss: 8.543462753295898\n",
            "epoch: 49 loss: 8.543044090270996\n",
            "epoch: 50 loss: 8.542651176452637\n",
            "epoch: 51 loss: 8.542275428771973\n",
            "epoch: 52 loss: 8.541916847229004\n",
            "epoch: 53 loss: 8.541568756103516\n",
            "epoch: 54 loss: 8.54123306274414\n",
            "epoch: 55 loss: 8.54090404510498\n",
            "epoch: 56 loss: 8.540582656860352\n",
            "epoch: 57 loss: 8.540264129638672\n",
            "epoch: 58 loss: 8.539952278137207\n",
            "epoch: 59 loss: 8.539643287658691\n",
            "epoch: 60 loss: 8.539338111877441\n",
            "epoch: 61 loss: 8.53903579711914\n",
            "epoch: 62 loss: 8.538734436035156\n",
            "epoch: 63 loss: 8.538435935974121\n",
            "epoch: 64 loss: 8.538137435913086\n",
            "epoch: 65 loss: 8.537840843200684\n",
            "epoch: 66 loss: 8.537546157836914\n",
            "epoch: 67 loss: 8.537253379821777\n",
            "epoch: 68 loss: 8.536959648132324\n",
            "epoch: 69 loss: 8.536667823791504\n",
            "epoch: 70 loss: 8.536375999450684\n",
            "epoch: 71 loss: 8.536086082458496\n",
            "epoch: 72 loss: 8.535796165466309\n",
            "epoch: 73 loss: 8.535508155822754\n",
            "epoch: 74 loss: 8.5352201461792\n",
            "epoch: 75 loss: 8.534931182861328\n",
            "epoch: 76 loss: 8.534645080566406\n",
            "epoch: 77 loss: 8.534358978271484\n",
            "epoch: 78 loss: 8.534072875976562\n",
            "epoch: 79 loss: 8.53378677368164\n",
            "epoch: 80 loss: 8.533502578735352\n",
            "epoch: 81 loss: 8.533219337463379\n",
            "epoch: 82 loss: 8.53293514251709\n",
            "epoch: 83 loss: 8.532652854919434\n",
            "epoch: 84 loss: 8.532369613647461\n",
            "epoch: 85 loss: 8.532087326049805\n",
            "epoch: 86 loss: 8.531807899475098\n",
            "epoch: 87 loss: 8.531527519226074\n",
            "epoch: 88 loss: 8.53124713897705\n",
            "epoch: 89 loss: 8.530967712402344\n",
            "epoch: 90 loss: 8.530688285827637\n",
            "epoch: 91 loss: 8.530409812927246\n",
            "epoch: 92 loss: 8.530132293701172\n",
            "epoch: 93 loss: 8.529854774475098\n",
            "epoch: 94 loss: 8.529577255249023\n",
            "epoch: 95 loss: 8.529301643371582\n",
            "epoch: 96 loss: 8.529025077819824\n",
            "epoch: 97 loss: 8.528752326965332\n",
            "epoch: 98 loss: 8.52847671508789\n",
            "epoch: 99 loss: 8.528202056884766\n"
          ]
        }
      ]
    },
    {
      "cell_type": "code",
      "source": [
        "plt.plot(range(epochs),[loss.detach().item() for loss in losses])\n",
        "plt.ylabel(\"Loss\")\n",
        "plt.xlabel(\"Epochs\")"
      ],
      "metadata": {
        "colab": {
          "base_uri": "https://localhost:8080/",
          "height": 466
        },
        "id": "GjSPP0KDELX1",
        "outputId": "4d4a47d6-42bc-4b07-db8a-37dd1c9ca300"
      },
      "execution_count": 347,
      "outputs": [
        {
          "output_type": "execute_result",
          "data": {
            "text/plain": [
              "Text(0.5, 0, 'Epochs')"
            ]
          },
          "metadata": {},
          "execution_count": 347
        },
        {
          "output_type": "display_data",
          "data": {
            "text/plain": [
              "<Figure size 640x480 with 1 Axes>"
            ],
            "image/png": "[encoded data removed]"
          },
          "metadata": {}
        }
      ]
    },
    {
      "cell_type": "code",
      "source": [
        "plot_fit(\"Trained model\")"
      ],
      "metadata": {
        "colab": {
          "base_uri": "https://localhost:8080/",
          "height": 430
        },
        "id": "Eta802I3EwLX",
        "outputId": "7c3b7253-52cf-45b7-f385-2d7521ccea34"
      },
      "execution_count": 348,
      "outputs": [
        {
          "output_type": "display_data",
          "data": {
            "text/plain": [
              "<Figure size 640x480 with 1 Axes>"
            ],
            "image/png": "[encoded data removed]"
          },
          "metadata": {}
        }
      ]
    }
  ]
}